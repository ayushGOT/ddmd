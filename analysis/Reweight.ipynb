{
 "cells": [
  {
   "cell_type": "code",
   "execution_count": null,
   "id": "2a08e512",
   "metadata": {},
   "outputs": [],
   "source": [
    "import plotly\n",
    "import numpy as np \n",
    "import pandas as pd\n",
    "import plotly.express as px\n",
    "import matplotlib.pyplot as plt \n",
    "import os\n",
    "import glob\n",
    "from tqdm import tqdm\n",
    "import yaml"
   ]
  },
  {
   "cell_type": "code",
   "execution_count": null,
   "id": "2ebd787c",
   "metadata": {},
   "outputs": [],
   "source": [
    "df=pd.read_pickle(\"result.pkl\")\n",
    "df"
   ]
  },
  {
   "cell_type": "code",
   "execution_count": null,
   "id": "29fbc40e",
   "metadata": {},
   "outputs": [],
   "source": [
    "#to determine if the MD simulation started from a checkpoint (save the cpt in that case) or outlier\n",
    "for label in df.sys_label.unique():\n",
    "    setup=yaml.safe_load(open(f\"../md_run/{label}/setting.yml\", 'r'))\n",
    "    if setup['checkpoint']:\n",
    "        df.loc[(df['sys_label'] == label),['cpt']]= setup['checkpoint'].split('/')[-2]  # sim label from which the cpt came\n",
    "    elif 'md_run' in setup['pdb_file']:   # started from an outlier\n",
    "        #print(setup['pdb_file'])\n",
    "        df.loc[(df['sys_label'] == label),['outlier_MD_label']]=setup['pdb_file'].split('.pd')[0].split('/')[-1].split('_00')[0]\n",
    "        df.loc[(df['sys_label'] == label),['outlier_MD_frame']]=int(setup['pdb_file'].split('.pd')[0].split('_')[-1])\n",
    "    df.loc[(df['sys_label'] == label),['wall_clockt']]=int(label.split('_')[-1])  # to add column for starting wall clock times\n",
    "print (df)"
   ]
  },
  {
   "cell_type": "code",
   "execution_count": null,
   "id": "2482330a",
   "metadata": {
    "scrolled": true
   },
   "outputs": [],
   "source": [
    "df.outlier_MD_label.unique()"
   ]
  },
  {
   "cell_type": "code",
   "execution_count": null,
   "id": "c3ee7170",
   "metadata": {},
   "outputs": [],
   "source": [
    "print((df['pdb'].value_counts().to_list()))"
   ]
  },
  {
   "cell_type": "code",
   "execution_count": null,
   "id": "cd8833f0",
   "metadata": {},
   "outputs": [],
   "source": [
    "# to form md_steps array for the whole df\n",
    "timeline = {}\n",
    "md_step=[]\n",
    "c=0\n",
    "for gpu_id in df.gpu_id.unique(): \n",
    "    sub_df = df[df.gpu_id == gpu_id]\n",
    "    i=0                      # simulation no. (starting from 0) for the particular GPU id\n",
    "    for sys_label in sub_df.sys_label.unique(): \n",
    "        #current_time = int(sys_label.split('_')[-1]) - 1692329418     # mapping the wall clock starting time of simulation to the beginning of the main job\n",
    "        #timeline[f\"gpu_{gpu_id}\"].append(current_time)\n",
    "        t = list(map(lambda x: x + i*1000, sub_df[sub_df.sys_label == sys_label]['frame'].to_list()))\n",
    "        c+=1\n",
    "        #print(len(t),c)\n",
    "        md_step+=t\n",
    "        #sub_df.loc[sub_df.sys_label == sys_label]['md_step']=t.copy()\n",
    "        i+=1"
   ]
  },
  {
   "cell_type": "code",
   "execution_count": null,
   "id": "9dd8c957",
   "metadata": {},
   "outputs": [],
   "source": [
    "print(len(md_step),max(md_step))"
   ]
  },
  {
   "cell_type": "code",
   "execution_count": null,
   "id": "de629273",
   "metadata": {},
   "outputs": [],
   "source": [
    "len(df)"
   ]
  },
  {
   "cell_type": "code",
   "execution_count": null,
   "id": "8f73b0f3",
   "metadata": {},
   "outputs": [],
   "source": [
    "df['md_step']=md_step.copy()\n",
    "df"
   ]
  },
  {
   "cell_type": "code",
   "execution_count": null,
   "id": "446e01d0",
   "metadata": {},
   "outputs": [],
   "source": [
    "# initial weights\n",
    "\n",
    "df['weight']=1\n",
    "df"
   ]
  },
  {
   "cell_type": "code",
   "execution_count": null,
   "id": "e3f8386c-8528-4fdd-bf4d-8eb98a3905e8",
   "metadata": {},
   "outputs": [],
   "source": [
    "#changing the weights\n",
    "print(int(len(df)/6))\n",
    "mds=0     # will be used to iterate over md steps (multiples of 1000)\n",
    "while mds < int(len(df)/6):\n",
    "    for sys_label in df[df.md_step==mds].sys_label.unique():   # iterate over sys_labels at the same md_step\n",
    "        #print(df[df.sys_label==sys_label])\n",
    "        if df.loc[(df['sys_label']==sys_label) & (df['frame']==0)]['cpt'].to_list() and mds!=0: # if cpt exists: weight should be the same as that of the continued traj\n",
    "            gpu_id=str(int(df.loc[(df.sys_label==sys_label) & (df.frame==0)]['gpu_id']))\n",
    "            #print(gpu_id)\n",
    "            df.loc[(df.sys_label==sys_label),['weight']]=float(df.loc[(df.gpu_id==gpu_id) & (df.md_step==mds-1)]['weight'])  # weight should be equal to the wt of frame at the previous md_step. \n",
    "            #print(df.loc[(df['gpu_id']==gpu_id) & (df['md_step']==mds-1)])\n",
    "            \n",
    "            \n",
    "        # to reweight outlier trajectories\n",
    "        if sys_label in df.outlier_MD_label.unique():\n",
    "            sdf=df[(df.outlier_MD_label == sys_label) & (df.frame==0)].sort_values('md_step')   # which simulations had an outlier IC from this sys_label. Need to sort wrt md_step becoz reweighting should be done in the order of outlier detection\n",
    "            for md_step in sdf.md_step.unique():        \n",
    "                for outlier_MD_frame in sdf[sdf.md_step==md_step].outlier_MD_frame.unique():\n",
    "                    fac=len(sdf[(sdf.md_step==md_step) & (sdf.outlier_MD_frame==outlier_MD_frame)])  # how many simulations started from the exact same outlier frame at this md_step \n",
    "                    print(fac)\n",
    "                    df.loc[(df.sys_label==sys_label) & (df.frame >= outlier_MD_frame), ['weight']]/=(fac+1)  # reweight the parent trajectory\n",
    "                    df.loc[(df.outlier_MD_label==sys_label) & (df.md_step >= md_step) & (df.md_step <= (md_step+999)), ['weight']]= float(df.loc[(df.sys_label==sys_label) & (df.frame == 999)]['weight'])  # reweight the child trajectory(ies)\n",
    "            #print(sdf)\n",
    "    #print(mds)\n",
    "    mds+=1000      # move on to next set of simulations  \n",
    "#df"
   ]
  },
  {
   "cell_type": "code",
   "execution_count": null,
   "id": "25e0423b",
   "metadata": {},
   "outputs": [],
   "source": [
    "print((df['weight'].value_counts()))"
   ]
  },
  {
   "cell_type": "code",
   "execution_count": null,
   "id": "0912cd3e",
   "metadata": {},
   "outputs": [],
   "source": [
    "df.to_pickle(\"reweighted.pkl\")"
   ]
  },
  {
   "cell_type": "code",
   "execution_count": null,
   "id": "d1a2ddfe",
   "metadata": {},
   "outputs": [],
   "source": [
    "df.weight.unique()\n"
   ]
  },
  {
   "cell_type": "code",
   "execution_count": null,
   "id": "570c1355",
   "metadata": {},
   "outputs": [],
   "source": []
  }
 ],
 "metadata": {
  "kernelspec": {
   "display_name": "Python 3 (ipykernel)",
   "language": "python",
   "name": "python3"
  },
  "language_info": {
   "codemirror_mode": {
    "name": "ipython",
    "version": 3
   },
   "file_extension": ".py",
   "mimetype": "text/x-python",
   "name": "python",
   "nbconvert_exporter": "python",
   "pygments_lexer": "ipython3",
   "version": "3.11.7"
  }
 },
 "nbformat": 4,
 "nbformat_minor": 5
}
