{
 "cells": [
  {
   "cell_type": "code",
   "execution_count": 1,
   "id": "eb6aa445",
   "metadata": {},
   "outputs": [],
   "source": [
    "import numpy as np\n",
    "import pandas as pd\n",
    "import matplotlib.pyplot as plt\n",
    "from tqdm import tqdm"
   ]
  },
  {
   "cell_type": "code",
   "execution_count": 3,
   "id": "4de429ce",
   "metadata": {},
   "outputs": [
    {
     "data": {
      "text/html": [
       "<div>\n",
       "<style scoped>\n",
       "    .dataframe tbody tr th:only-of-type {\n",
       "        vertical-align: middle;\n",
       "    }\n",
       "\n",
       "    .dataframe tbody tr th {\n",
       "        vertical-align: top;\n",
       "    }\n",
       "\n",
       "    .dataframe thead th {\n",
       "        text-align: right;\n",
       "    }\n",
       "</style>\n",
       "<table border=\"1\" class=\"dataframe\">\n",
       "  <thead>\n",
       "    <tr style=\"text-align: right;\">\n",
       "      <th></th>\n",
       "      <th>pdb</th>\n",
       "      <th>dcd</th>\n",
       "      <th>frame</th>\n",
       "      <th>rmsd</th>\n",
       "      <th>Q</th>\n",
       "      <th>embeddings</th>\n",
       "      <th>lof_score</th>\n",
       "      <th>sys_label</th>\n",
       "      <th>gpu_id</th>\n",
       "      <th>cluster_label</th>\n",
       "    </tr>\n",
       "  </thead>\n",
       "  <tbody>\n",
       "    <tr>\n",
       "      <th>0</th>\n",
       "      <td>/project/zerze/ayushg/argonne/configs/configs_...</td>\n",
       "      <td>/project/zerze/ayushg/argonne/ddmd/rna2/test/m...</td>\n",
       "      <td>0</td>\n",
       "      <td>1.402177</td>\n",
       "      <td>0.999734</td>\n",
       "      <td>[0.5586485266685486, 1.9873799085617065, -0.41...</td>\n",
       "      <td>-1.043423</td>\n",
       "      <td>md_run_2_1695323595</td>\n",
       "      <td>2</td>\n",
       "      <td>440</td>\n",
       "    </tr>\n",
       "    <tr>\n",
       "      <th>1</th>\n",
       "      <td>/project/zerze/ayushg/argonne/configs/configs_...</td>\n",
       "      <td>/project/zerze/ayushg/argonne/ddmd/rna2/test/m...</td>\n",
       "      <td>1</td>\n",
       "      <td>1.522161</td>\n",
       "      <td>0.998398</td>\n",
       "      <td>[0.5388327240943909, 1.8327358961105347, 0.462...</td>\n",
       "      <td>-1.158537</td>\n",
       "      <td>md_run_2_1695323595</td>\n",
       "      <td>2</td>\n",
       "      <td>209</td>\n",
       "    </tr>\n",
       "    <tr>\n",
       "      <th>2</th>\n",
       "      <td>/project/zerze/ayushg/argonne/configs/configs_...</td>\n",
       "      <td>/project/zerze/ayushg/argonne/ddmd/rna2/test/m...</td>\n",
       "      <td>2</td>\n",
       "      <td>1.594429</td>\n",
       "      <td>0.999807</td>\n",
       "      <td>[0.5603600144386292, 0.9495664834976196, 0.364...</td>\n",
       "      <td>-1.069568</td>\n",
       "      <td>md_run_2_1695323595</td>\n",
       "      <td>2</td>\n",
       "      <td>182</td>\n",
       "    </tr>\n",
       "    <tr>\n",
       "      <th>3</th>\n",
       "      <td>/project/zerze/ayushg/argonne/configs/configs_...</td>\n",
       "      <td>/project/zerze/ayushg/argonne/ddmd/rna2/test/m...</td>\n",
       "      <td>3</td>\n",
       "      <td>1.334793</td>\n",
       "      <td>0.999812</td>\n",
       "      <td>[1.422613263130188, 2.8166468143463135, 0.9570...</td>\n",
       "      <td>-1.128694</td>\n",
       "      <td>md_run_2_1695323595</td>\n",
       "      <td>2</td>\n",
       "      <td>12</td>\n",
       "    </tr>\n",
       "    <tr>\n",
       "      <th>4</th>\n",
       "      <td>/project/zerze/ayushg/argonne/configs/configs_...</td>\n",
       "      <td>/project/zerze/ayushg/argonne/ddmd/rna2/test/m...</td>\n",
       "      <td>4</td>\n",
       "      <td>1.564717</td>\n",
       "      <td>0.999686</td>\n",
       "      <td>[0.39517462253570557, 1.282995343208313, -0.16...</td>\n",
       "      <td>-1.197970</td>\n",
       "      <td>md_run_2_1695323595</td>\n",
       "      <td>2</td>\n",
       "      <td>64</td>\n",
       "    </tr>\n",
       "    <tr>\n",
       "      <th>...</th>\n",
       "      <td>...</td>\n",
       "      <td>...</td>\n",
       "      <td>...</td>\n",
       "      <td>...</td>\n",
       "      <td>...</td>\n",
       "      <td>...</td>\n",
       "      <td>...</td>\n",
       "      <td>...</td>\n",
       "      <td>...</td>\n",
       "      <td>...</td>\n",
       "    </tr>\n",
       "    <tr>\n",
       "      <th>767995</th>\n",
       "      <td>/project/zerze/ayushg/argonne/ddmd/rna2/test/m...</td>\n",
       "      <td>/project/zerze/ayushg/argonne/ddmd/rna2/test/m...</td>\n",
       "      <td>995</td>\n",
       "      <td>1.385269</td>\n",
       "      <td>0.999837</td>\n",
       "      <td>[-0.15419892966747284, 0.4119950234889984, 0.5...</td>\n",
       "      <td>-1.213179</td>\n",
       "      <td>md_run_7_1695660115</td>\n",
       "      <td>7</td>\n",
       "      <td>215</td>\n",
       "    </tr>\n",
       "    <tr>\n",
       "      <th>767996</th>\n",
       "      <td>/project/zerze/ayushg/argonne/ddmd/rna2/test/m...</td>\n",
       "      <td>/project/zerze/ayushg/argonne/ddmd/rna2/test/m...</td>\n",
       "      <td>996</td>\n",
       "      <td>1.340121</td>\n",
       "      <td>0.999826</td>\n",
       "      <td>[-0.9240164756774902, 1.6742666959762573, 0.19...</td>\n",
       "      <td>-1.074279</td>\n",
       "      <td>md_run_7_1695660115</td>\n",
       "      <td>7</td>\n",
       "      <td>163</td>\n",
       "    </tr>\n",
       "    <tr>\n",
       "      <th>767997</th>\n",
       "      <td>/project/zerze/ayushg/argonne/ddmd/rna2/test/m...</td>\n",
       "      <td>/project/zerze/ayushg/argonne/ddmd/rna2/test/m...</td>\n",
       "      <td>997</td>\n",
       "      <td>1.306534</td>\n",
       "      <td>0.999818</td>\n",
       "      <td>[0.38695815205574036, -1.3655040264129639, 0.3...</td>\n",
       "      <td>-1.148347</td>\n",
       "      <td>md_run_7_1695660115</td>\n",
       "      <td>7</td>\n",
       "      <td>215</td>\n",
       "    </tr>\n",
       "    <tr>\n",
       "      <th>767998</th>\n",
       "      <td>/project/zerze/ayushg/argonne/ddmd/rna2/test/m...</td>\n",
       "      <td>/project/zerze/ayushg/argonne/ddmd/rna2/test/m...</td>\n",
       "      <td>998</td>\n",
       "      <td>1.222190</td>\n",
       "      <td>0.998906</td>\n",
       "      <td>[1.924309253692627, 0.7662814259529114, -0.424...</td>\n",
       "      <td>-1.086965</td>\n",
       "      <td>md_run_7_1695660115</td>\n",
       "      <td>7</td>\n",
       "      <td>51</td>\n",
       "    </tr>\n",
       "    <tr>\n",
       "      <th>767999</th>\n",
       "      <td>/project/zerze/ayushg/argonne/ddmd/rna2/test/m...</td>\n",
       "      <td>/project/zerze/ayushg/argonne/ddmd/rna2/test/m...</td>\n",
       "      <td>999</td>\n",
       "      <td>1.361404</td>\n",
       "      <td>0.999884</td>\n",
       "      <td>[-1.034833550453186, -0.26526138186454773, -0....</td>\n",
       "      <td>-1.066068</td>\n",
       "      <td>md_run_7_1695660115</td>\n",
       "      <td>7</td>\n",
       "      <td>179</td>\n",
       "    </tr>\n",
       "  </tbody>\n",
       "</table>\n",
       "<p>768000 rows × 10 columns</p>\n",
       "</div>"
      ],
      "text/plain": [
       "                                                      pdb  \\\n",
       "0       /project/zerze/ayushg/argonne/configs/configs_...   \n",
       "1       /project/zerze/ayushg/argonne/configs/configs_...   \n",
       "2       /project/zerze/ayushg/argonne/configs/configs_...   \n",
       "3       /project/zerze/ayushg/argonne/configs/configs_...   \n",
       "4       /project/zerze/ayushg/argonne/configs/configs_...   \n",
       "...                                                   ...   \n",
       "767995  /project/zerze/ayushg/argonne/ddmd/rna2/test/m...   \n",
       "767996  /project/zerze/ayushg/argonne/ddmd/rna2/test/m...   \n",
       "767997  /project/zerze/ayushg/argonne/ddmd/rna2/test/m...   \n",
       "767998  /project/zerze/ayushg/argonne/ddmd/rna2/test/m...   \n",
       "767999  /project/zerze/ayushg/argonne/ddmd/rna2/test/m...   \n",
       "\n",
       "                                                      dcd  frame      rmsd  \\\n",
       "0       /project/zerze/ayushg/argonne/ddmd/rna2/test/m...      0  1.402177   \n",
       "1       /project/zerze/ayushg/argonne/ddmd/rna2/test/m...      1  1.522161   \n",
       "2       /project/zerze/ayushg/argonne/ddmd/rna2/test/m...      2  1.594429   \n",
       "3       /project/zerze/ayushg/argonne/ddmd/rna2/test/m...      3  1.334793   \n",
       "4       /project/zerze/ayushg/argonne/ddmd/rna2/test/m...      4  1.564717   \n",
       "...                                                   ...    ...       ...   \n",
       "767995  /project/zerze/ayushg/argonne/ddmd/rna2/test/m...    995  1.385269   \n",
       "767996  /project/zerze/ayushg/argonne/ddmd/rna2/test/m...    996  1.340121   \n",
       "767997  /project/zerze/ayushg/argonne/ddmd/rna2/test/m...    997  1.306534   \n",
       "767998  /project/zerze/ayushg/argonne/ddmd/rna2/test/m...    998  1.222190   \n",
       "767999  /project/zerze/ayushg/argonne/ddmd/rna2/test/m...    999  1.361404   \n",
       "\n",
       "               Q                                         embeddings  \\\n",
       "0       0.999734  [0.5586485266685486, 1.9873799085617065, -0.41...   \n",
       "1       0.998398  [0.5388327240943909, 1.8327358961105347, 0.462...   \n",
       "2       0.999807  [0.5603600144386292, 0.9495664834976196, 0.364...   \n",
       "3       0.999812  [1.422613263130188, 2.8166468143463135, 0.9570...   \n",
       "4       0.999686  [0.39517462253570557, 1.282995343208313, -0.16...   \n",
       "...          ...                                                ...   \n",
       "767995  0.999837  [-0.15419892966747284, 0.4119950234889984, 0.5...   \n",
       "767996  0.999826  [-0.9240164756774902, 1.6742666959762573, 0.19...   \n",
       "767997  0.999818  [0.38695815205574036, -1.3655040264129639, 0.3...   \n",
       "767998  0.998906  [1.924309253692627, 0.7662814259529114, -0.424...   \n",
       "767999  0.999884  [-1.034833550453186, -0.26526138186454773, -0....   \n",
       "\n",
       "        lof_score            sys_label gpu_id  cluster_label  \n",
       "0       -1.043423  md_run_2_1695323595      2            440  \n",
       "1       -1.158537  md_run_2_1695323595      2            209  \n",
       "2       -1.069568  md_run_2_1695323595      2            182  \n",
       "3       -1.128694  md_run_2_1695323595      2             12  \n",
       "4       -1.197970  md_run_2_1695323595      2             64  \n",
       "...           ...                  ...    ...            ...  \n",
       "767995  -1.213179  md_run_7_1695660115      7            215  \n",
       "767996  -1.074279  md_run_7_1695660115      7            163  \n",
       "767997  -1.148347  md_run_7_1695660115      7            215  \n",
       "767998  -1.086965  md_run_7_1695660115      7             51  \n",
       "767999  -1.066068  md_run_7_1695660115      7            179  \n",
       "\n",
       "[768000 rows x 10 columns]"
      ]
     },
     "execution_count": 3,
     "metadata": {},
     "output_type": "execute_result"
    }
   ],
   "source": [
    "df = pd.read_pickle(\"../rna2/test_NBatoms_ld10_16kernels_4.27A_IC_f_0/infer_run/result_4days.pkl\")\n",
    "df"
   ]
  },
  {
   "cell_type": "code",
   "execution_count": 3,
   "id": "57eed987",
   "metadata": {},
   "outputs": [
    {
     "data": {
      "text/plain": [
       "0         md_run_0_1692329418\n",
       "1         md_run_0_1692329418\n",
       "2         md_run_0_1692329418\n",
       "3         md_run_0_1692329418\n",
       "4         md_run_0_1692329418\n",
       "                 ...         \n",
       "655995    md_run_5_1692670552\n",
       "655996    md_run_5_1692670552\n",
       "655997    md_run_5_1692670552\n",
       "655998    md_run_5_1692670552\n",
       "655999    md_run_5_1692670552\n",
       "Name: sys_label, Length: 656000, dtype: object"
      ]
     },
     "execution_count": 3,
     "metadata": {},
     "output_type": "execute_result"
    }
   ],
   "source": [
    "df['sys_label']"
   ]
  },
  {
   "cell_type": "code",
   "execution_count": 4,
   "id": "72fcf3ea",
   "metadata": {},
   "outputs": [
    {
     "name": "stderr",
     "output_type": "stream",
     "text": [
      "100%|████████████████████████████████████████████████████████████████████████████████████████████████████████████████████████████████████████████████████████████████████| 128/128 [00:01<00:00, 121.41it/s]\n",
      "100%|████████████████████████████████████████████████████████████████████████████████████████████████████████████████████████████████████████████████████████████████████| 128/128 [00:01<00:00, 118.44it/s]\n",
      "100%|████████████████████████████████████████████████████████████████████████████████████████████████████████████████████████████████████████████████████████████████████| 128/128 [00:01<00:00, 120.43it/s]\n",
      "100%|████████████████████████████████████████████████████████████████████████████████████████████████████████████████████████████████████████████████████████████████████| 128/128 [00:01<00:00, 115.62it/s]\n",
      "100%|████████████████████████████████████████████████████████████████████████████████████████████████████████████████████████████████████████████████████████████████████| 128/128 [00:01<00:00, 118.20it/s]\n",
      "100%|████████████████████████████████████████████████████████████████████████████████████████████████████████████████████████████████████████████████████████████████████| 128/128 [00:01<00:00, 118.85it/s]\n"
     ]
    }
   ],
   "source": [
    "timeline = {}\n",
    "pairs = []\n",
    "for gpu_id in df.gpu_id.unique(): \n",
    "    timeline[f\"gpu_{gpu_id}\"] = []\n",
    "    sub_df = df[df.gpu_id == gpu_id]\n",
    "    for sys_label in tqdm(sub_df.sys_label.unique()): \n",
    "        current_time = int(sys_label.split('_')[-1]) - 1695323595     # mapping the wall clock starting time of simulation to the beginning of the main job\n",
    "        timeline[f\"gpu_{gpu_id}\"].append(current_time)\n",
    "        pdb = sub_df[sub_df.sys_label == sys_label]['pdb'].to_list()[0]\n",
    "        if pdb.startswith('md_run'):      \n",
    "            target = [current_time, int(gpu_id)]     # relative starting wall clock time, GPU id\n",
    "            source = [int(pdb[:-4].split('_')[3])  - 1695323595, int(pdb[:-4].split('_')[2])]  # relative starting wall clock time, and GPU id of the sim from which the IC is picked \n",
    "            pairs.append([source, target])     # making pairs of the source and target"
   ]
  },
  {
   "cell_type": "code",
   "execution_count": 14,
   "id": "56b1e04f",
   "metadata": {},
   "outputs": [
    {
     "data": {
      "text/plain": [
       "'md_run_6_1681218718_000641'"
      ]
     },
     "execution_count": 14,
     "metadata": {},
     "output_type": "execute_result"
    }
   ],
   "source": [
    "a=\"md_run_6_1681218718_000641.pdb\"\n",
    "\n",
    "a[:-4].split('_')[2]\n",
    "a[:-4]"
   ]
  },
  {
   "cell_type": "code",
   "execution_count": 12,
   "id": "5f24f42f",
   "metadata": {},
   "outputs": [
    {
     "data": {
      "text/plain": [
       "'md_run_3_1695417604'"
      ]
     },
     "execution_count": 12,
     "metadata": {},
     "output_type": "execute_result"
    }
   ],
   "source": [
    "b=\"/project/zerze/ayushg/argonne/ddmd/rna2/test/md_run/md_run_3_1695417604/checkpnt.chk\"\n",
    "b.split('/')[-2]"
   ]
  },
  {
   "cell_type": "code",
   "execution_count": 25,
   "id": "151b5928",
   "metadata": {},
   "outputs": [
    {
     "data": {
      "text/plain": [
       "'md_run_4_1695344334'"
      ]
     },
     "execution_count": 25,
     "metadata": {},
     "output_type": "execute_result"
    }
   ],
   "source": [
    "\"/project/zerze/ayushg/argonne/ddmd/rna2/test/md_run/md_run_3_1695414989/md_run_4_1695344334_000244.pdb\".split('.')[0].split('/')[-1].split('_00')[0]"
   ]
  },
  {
   "cell_type": "code",
   "execution_count": 8,
   "id": "218d1c92",
   "metadata": {},
   "outputs": [],
   "source": [
    "%run ~/.mpl_set.py"
   ]
  },
  {
   "cell_type": "code",
   "execution_count": 7,
   "id": "781727e9",
   "metadata": {},
   "outputs": [
    {
     "data": {
      "text/plain": [
       "Text(0.5, 0, 'MD steps')"
      ]
     },
     "execution_count": 7,
     "metadata": {},
     "output_type": "execute_result"
    },
    {
     "data": {
      "image/png": "[encoded data removed]",
      "text/plain": [
       "<Figure size 2000x800 with 1 Axes>"
      ]
     },
     "metadata": {},
     "output_type": "display_data"
    }
   ],
   "source": [
    "fig, ax = plt.subplots(figsize=(20, 8))\n",
    "\n",
    "for gpu_id in timeline: \n",
    "    ax.plot(timeline[gpu_id], np.ones_like(timeline[gpu_id]) * int(gpu_id[-1]), linewidth=2)\n",
    "for pair in pairs: \n",
    "    pair = np.array(pair)\n",
    "    dist = pair[1] - pair[0]\n",
    "    ax.arrow(*pair[0], *dist, linewidth=.1)\n",
    "    \n",
    "ax.scatter([1692670552  - 1692329418], [6], marker='*', s=500)\n",
    "ax.set_ylabel(\"RUN\")\n",
    "ax.set_xlabel(\"MD steps\")"
   ]
  },
  {
   "cell_type": "code",
   "execution_count": 8,
   "id": "c238f8d1",
   "metadata": {},
   "outputs": [
    {
     "data": {
      "text/plain": [
       "pdb              /project/zerze/ayushg/argonne/ddmd/rna3/test/m...\n",
       "dcd              /project/zerze/ayushg/argonne/ddmd/rna3/test_R...\n",
       "frame                                                          915\n",
       "rmsd                                                       3.32762\n",
       "Q                                                         0.591535\n",
       "embeddings       [-0.6929620504379272, 0.2937558889389038, 0.22...\n",
       "lof_score                                                -2.146565\n",
       "sys_label                                      md_run_1_1692610127\n",
       "gpu_id                                                           1\n",
       "cluster_label                                                  417\n",
       "Name: 198915, dtype: object"
      ]
     },
     "execution_count": 8,
     "metadata": {},
     "output_type": "execute_result"
    }
   ],
   "source": [
    "df.iloc[(np.argmin(df.rmsd))]"
   ]
  },
  {
   "cell_type": "code",
   "execution_count": 10,
   "id": "28470a91",
   "metadata": {},
   "outputs": [],
   "source": [
    "def traj_stack(dtrajs): \n",
    "    y_len = max(len(i) for i in dtrajs)\n",
    "    dtraj_stacks = np.ones([len(dtrajs), y_len]) * -1\n",
    "    for i, dtraj in enumerate(dtrajs):\n",
    "        dtraj_stacks[i, :len(dtraj)] = dtraj\n",
    "    return dtraj_stacks[dtraj_stacks != -1]"
   ]
  },
  {
   "cell_type": "code",
   "execution_count": 11,
   "id": "fca26925",
   "metadata": {},
   "outputs": [
    {
     "ename": "NameError",
     "evalue": "name 'dtrajs' is not defined",
     "output_type": "error",
     "traceback": [
      "\u001b[0;31m---------------------------------------------------------------------------\u001b[0m",
      "\u001b[0;31mNameError\u001b[0m                                 Traceback (most recent call last)",
      "Cell \u001b[0;32mIn[11], line 1\u001b[0m\n\u001b[0;32m----> 1\u001b[0m dtrajs[\u001b[39m'\u001b[39m\u001b[39mtotal\u001b[39m\u001b[39m'\u001b[39m] \u001b[39m=\u001b[39m traj_stack(dtrajs\u001b[39m.\u001b[39mvalues())\n",
      "\u001b[0;31mNameError\u001b[0m: name 'dtrajs' is not defined"
     ]
    }
   ],
   "source": [
    "dtrajs['total'] = traj_stack(dtrajs.values())"
   ]
  },
  {
   "cell_type": "code",
   "execution_count": 12,
   "id": "c2b4ef9c",
   "metadata": {},
   "outputs": [
    {
     "ename": "NameError",
     "evalue": "name 'dtrajs' is not defined",
     "output_type": "error",
     "traceback": [
      "\u001b[0;31m---------------------------------------------------------------------------\u001b[0m",
      "\u001b[0;31mNameError\u001b[0m                                 Traceback (most recent call last)",
      "Cell \u001b[0;32mIn[12], line 1\u001b[0m\n\u001b[0;32m----> 1\u001b[0m \u001b[39mfor\u001b[39;00m i \u001b[39min\u001b[39;00m dtrajs: \n\u001b[1;32m      2\u001b[0m     \u001b[39mprint\u001b[39m(\u001b[39mlen\u001b[39m(dtrajs[i]))\n",
      "\u001b[0;31mNameError\u001b[0m: name 'dtrajs' is not defined"
     ]
    }
   ],
   "source": [
    "for i in dtrajs: \n",
    "    print(len(dtrajs[i]))"
   ]
  },
  {
   "cell_type": "code",
   "execution_count": null,
   "id": "ed36a253",
   "metadata": {},
   "outputs": [],
   "source": []
  },
  {
   "cell_type": "code",
   "execution_count": 17,
   "id": "762955d8",
   "metadata": {},
   "outputs": [
    {
     "name": "stderr",
     "output_type": "stream",
     "text": [
      "100%|█████████████████████████████████████████████████████████████████████████████████████████████████████████████████████████████████████████████████████████████████████████████████████████| 3231000/3231000 [00:15<00:00, 210116.50it/s]"
     ]
    },
    {
     "name": "stdout",
     "output_type": "stream",
     "text": [
      "CPU times: user 15.4 s, sys: 113 ms, total: 15.5 s\n",
      "Wall time: 15.6 s\n"
     ]
    },
    {
     "name": "stderr",
     "output_type": "stream",
     "text": [
      "\n"
     ]
    }
   ],
   "source": [
    "%%time\n",
    "def sampling(traj): \n",
    "    sampled = []\n",
    "    n_sampled = []\n",
    "    for i in tqdm(traj): \n",
    "        if i not in sampled: \n",
    "            sampled.append(i)\n",
    "        n_sampled.append(len(sampled))\n",
    "    return None # n_sampled\n",
    "\n",
    "sampling(dtrajs['total'])"
   ]
  },
  {
   "cell_type": "code",
   "execution_count": 13,
   "id": "507307c4",
   "metadata": {},
   "outputs": [
    {
     "data": {
      "text/plain": [
       "[<matplotlib.lines.Line2D at 0x7fc9d29f27c0>]"
      ]
     },
     "execution_count": 13,
     "metadata": {},
     "output_type": "execute_result"
    },
    {
     "data": {
      "image/png": "[encoded data removed]",
      "text/plain": [
       "<Figure size 432x288 with 1 Axes>"
      ]
     },
     "metadata": {
      "needs_background": "light"
     },
     "output_type": "display_data"
    }
   ],
   "source": [
    "plt.plot(sampling(dtrajs['total']))"
   ]
  },
  {
   "cell_type": "code",
   "execution_count": 20,
   "id": "71abccd3",
   "metadata": {},
   "outputs": [
    {
     "data": {
      "text/plain": [
       "array(['/homes/heng.ma/Research/ddmd/ddmd/data/pdbs/bba/1FME-unfolded.pdb'],\n",
       "      dtype=object)"
      ]
     },
     "execution_count": 20,
     "metadata": {},
     "output_type": "execute_result"
    }
   ],
   "source": [
    "df.pdb.unique()"
   ]
  },
  {
   "cell_type": "code",
   "execution_count": null,
   "id": "c8193d60",
   "metadata": {},
   "outputs": [],
   "source": []
  }
 ],
 "metadata": {
  "kernelspec": {
   "display_name": "Python 3 (ipykernel)",
   "language": "python",
   "name": "python3"
  },
  "language_info": {
   "codemirror_mode": {
    "name": "ipython",
    "version": 3
   },
   "file_extension": ".py",
   "mimetype": "text/x-python",
   "name": "python",
   "nbconvert_exporter": "python",
   "pygments_lexer": "ipython3",
   "version": "3.9.13"
  }
 },
 "nbformat": 4,
 "nbformat_minor": 5
}
