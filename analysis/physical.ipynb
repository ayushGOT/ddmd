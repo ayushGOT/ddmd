{
 "cells": [
  {
   "cell_type": "code",
   "execution_count": null,
   "id": "c525b35a",
   "metadata": {},
   "outputs": [],
   "source": [
    "# import plotly\n",
    "import numpy as np \n",
    "import pandas as pd\n",
    "# import plotly.express as px\n",
    "# import matplotlib.pyplot as plt\n",
    "import os\n",
    "import glob\n",
    "import mdtraj as md\n",
    "# import barnaba as bb\n",
    "# from barnaba import definitions\n",
    "#from tqdm import tqdm"
   ]
  },
  {
   "cell_type": "code",
   "execution_count": null,
   "id": "41e1cbad",
   "metadata": {},
   "outputs": [],
   "source": [
    "df=pd.read_pickle(\"reweighted.pkl\")\n",
    "df"
   ]
  },
  {
   "cell_type": "code",
   "execution_count": null,
   "id": "a89ef489",
   "metadata": {},
   "outputs": [],
   "source": [
    "topology_file = df.iloc[13998]['pdb']\n",
    "i=0\n",
    "for sys_label in df.sys_label.unique():\n",
    "    trajectory = df.loc[(df['sys_label']==sys_label) & (df['frame']==0)]['dcd']\n",
    "    trajectory=trajectory.squeeze(axis=0)\n",
    "\n",
    "    # Load the trajectory and topology\n",
    "    traj = md.load(trajectory, top=topology_file)\n",
    "\n",
    "    # Define a selection of atoms\n",
    "    atom_selection = traj.top.select('resid 1 to 10')\n",
    "\n",
    "    # Calculate the radius of gyration for the selected atoms\n",
    "    rg = md.compute_rg(traj.atom_slice(atom_selection))\n",
    "    df.loc[(df['sys_label']==sys_label),['Rg']]=rg.copy()\n",
    "    \n",
    "    # E2E distances\n",
    "\n",
    "    # Create a list of pairs of indices for which to compute distances\n",
    "    pair = [[26,321]]\n",
    "\n",
    "    # Compute the distances between the specified pairs of atoms over the trajectory\n",
    "    distances = md.compute_distances(traj, pair)\n",
    "    df.loc[(df['sys_label']==sys_label),['E2E']]=distances.copy()\n",
    "    \n",
    "    # # annotations\n",
    "    # stacks, pairs= [],[]\n",
    "    # stackings, pairings, res = bb.annotate(trajectory,topology=topology_file)\n",
    "    \n",
    "    # for stack in stackings:      \n",
    "    #     stacks.append(len(stack[0]))   # no. of stacked base pairs\n",
    "    \n",
    "    # for pair in pairings:              # no. of base pairings\n",
    "    #     pairs.append(len(pair[0]))\n",
    "    \n",
    "    # #df.loc[(df['sys_label']==sys_label),['Rg']]=rg.copy()\n",
    "    # df.loc[(df['sys_label']==sys_label),['Stackings']]=stacks.copy()\n",
    "    # df.loc[(df['sys_label']==sys_label),['Pairings']]=pairs.copy()\n",
    "    \n",
    "    i+=1\n",
    "    print(i)\n",
    "    "
   ]
  },
  {
   "cell_type": "code",
   "execution_count": null,
   "id": "3d1f2ae6",
   "metadata": {},
   "outputs": [],
   "source": [
    "sys_label=\"md_run_2_1697083320\"\n",
    "trajectory = df.loc[(df['sys_label']==sys_label) & (df['frame']==0)]['dcd']\n",
    "trajectory=trajectory.squeeze(axis=0)\n",
    "\n",
    "    # Load the trajectory and topology\n",
    "traj = md.load(trajectory, top=topology_file)\n",
    "\n",
    "    # Define a selection of atoms\n",
    "atom_selection = traj.top.select('resid 1 to 10')\n",
    "\n",
    "    # Calculate the radius of gyration for the selected atoms\n",
    "rg = md.compute_rg(traj.atom_slice(atom_selection))\n",
    "''''\n",
    "    # annotations\n",
    "    stacks, pairs= [],[]\n",
    "    stackings, pairings, res = bb.annotate(trajectory,topology=topology_file)\n",
    "    \n",
    "    for stack in stackings:      \n",
    "        stacks.append(len(stack[0]))   # no. of stacked base pairs\n",
    "    \n",
    "    for pair in pairings:              # no. of base pairings\n",
    "        pairs.append(len(pair[0]))\n",
    "'''\n",
    "df.loc[(df['sys_label']==sys_label),['Rg']]=rg.copy()\n",
    "    #df[df['sys_label']==sys_label]['Stackings']=stacks.copy()\n",
    "    #df[df['sys_label']==sys_label]['Pairings']=pairs.copy()"
   ]
  },
  {
   "cell_type": "code",
   "execution_count": null,
   "id": "fbc7b37a",
   "metadata": {},
   "outputs": [],
   "source": [
    "df"
   ]
  },
  {
   "cell_type": "code",
   "execution_count": null,
   "id": "f7bcc0fc",
   "metadata": {},
   "outputs": [],
   "source": [
    "df.to_pickle(\"physical.pkl\")"
   ]
  },
  {
   "cell_type": "code",
   "execution_count": null,
   "id": "de5485df-f596-4440-919d-fe517d08f264",
   "metadata": {},
   "outputs": [],
   "source": [
    "df"
   ]
  },
  {
   "cell_type": "code",
   "execution_count": null,
   "id": "03178ef7",
   "metadata": {},
   "outputs": [],
   "source": [
    "\n",
    "trajectory_file = \"../md_run/md_run_4_1697135369/output.dcd\"\n",
    "topology_file = \"../md_run/md_run_6_1697153692/md_run_4_1697122293_000932.pdb\"\n",
    "\n",
    "# Load the trajectory and topology using mdtraj\n",
    "traj = md.load(trajectory_file, top=topology_file)\n",
    "\n",
    "# Define a selection of atoms (e.g., 'protein' or 'backbone')\n",
    "atom_selection = traj.top.select('resid 1 to 10')\n",
    "\n",
    "# Calculate the radius of gyration for the selected atoms\n",
    "rg_selected = md.compute_rg(traj.atom_slice(atom_selection))\n",
    "\n",
    "print(\"Radius of gyration for selected atoms:\", rg_selected)"
   ]
  },
  {
   "cell_type": "code",
   "execution_count": null,
   "id": "794a7c5a",
   "metadata": {},
   "outputs": [],
   "source": [
    "len(rg_selected)"
   ]
  },
  {
   "cell_type": "code",
   "execution_count": null,
   "id": "a5eac334",
   "metadata": {},
   "outputs": [],
   "source": [
    "stackings, pairings, res = bb.annotate(trajectory_file,topology=topology_file)"
   ]
  },
  {
   "cell_type": "code",
   "execution_count": null,
   "id": "cea9a6a9",
   "metadata": {},
   "outputs": [],
   "source": [
    "len(pairings[0][0])"
   ]
  },
  {
   "cell_type": "code",
   "execution_count": null,
   "id": "5ca0677a",
   "metadata": {},
   "outputs": [],
   "source": [
    "len(stackings)"
   ]
  },
  {
   "cell_type": "code",
   "execution_count": null,
   "id": "cf29e7ab",
   "metadata": {},
   "outputs": [],
   "source": [
    "a=[]\n",
    "for i in range(len(stackings)):\n",
    "    a.append(len(stackings[i][0]))\n",
    "print(min(a),max(a))"
   ]
  },
  {
   "cell_type": "code",
   "execution_count": null,
   "id": "533b4f45",
   "metadata": {},
   "outputs": [],
   "source": [
    "type(a)"
   ]
  },
  {
   "cell_type": "code",
   "execution_count": null,
   "id": "869f2537",
   "metadata": {},
   "outputs": [],
   "source": [
    "for stack in stackings:\n",
    "    print(len(stack[0]))"
   ]
  },
  {
   "cell_type": "code",
   "execution_count": null,
   "id": "550a0686",
   "metadata": {},
   "outputs": [],
   "source": []
  }
 ],
 "metadata": {
  "kernelspec": {
   "display_name": "Python 3 (ipykernel)",
   "language": "python",
   "name": "python3"
  },
  "language_info": {
   "codemirror_mode": {
    "name": "ipython",
    "version": 3
   },
   "file_extension": ".py",
   "mimetype": "text/x-python",
   "name": "python",
   "nbconvert_exporter": "python",
   "pygments_lexer": "ipython3",
   "version": "3.11.7"
  }
 },
 "nbformat": 4,
 "nbformat_minor": 5
}
