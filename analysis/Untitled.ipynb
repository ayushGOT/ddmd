{
 "cells": [
  {
   "cell_type": "code",
   "execution_count": 1,
   "id": "eccc3baf",
   "metadata": {},
   "outputs": [],
   "source": [
    "from sknetwork.data import karate_club, painters, movie_actor\n",
    "from sknetwork.embedding import LouvainEmbedding\n",
    "import numpy as np"
   ]
  },
  {
   "cell_type": "code",
   "execution_count": 6,
   "id": "c757e71f",
   "metadata": {},
   "outputs": [
    {
     "data": {
      "text/plain": [
       "(34, 34)"
      ]
     },
     "execution_count": 6,
     "metadata": {},
     "output_type": "execute_result"
    }
   ],
   "source": [
    "graph = karate_club(metadata=True)\n",
    "adjacency = graph.adjacency\n",
    "labels = graph.labels\n",
    "adjacency.shape"
   ]
  },
  {
   "cell_type": "code",
   "execution_count": 3,
   "id": "506786f6",
   "metadata": {},
   "outputs": [
    {
     "data": {
      "text/plain": [
       "(34, 4)"
      ]
     },
     "execution_count": 3,
     "metadata": {},
     "output_type": "execute_result"
    }
   ],
   "source": [
    "louvain = LouvainEmbedding()\n",
    "embedding = louvain.fit_transform(adjacency)\n",
    "embedding.shape"
   ]
  },
  {
   "cell_type": "code",
   "execution_count": 7,
   "id": "32700f83",
   "metadata": {},
   "outputs": [
    {
     "data": {
      "text/plain": [
       "(34, 4)"
      ]
     },
     "execution_count": 7,
     "metadata": {},
     "output_type": "execute_result"
    }
   ],
   "source": [
    "embedding.shape"
   ]
  },
  {
   "cell_type": "code",
   "execution_count": 8,
   "id": "467981d5",
   "metadata": {},
   "outputs": [
    {
     "data": {
      "text/plain": [
       "array([[0.25      , 0.625     , 0.0625    , 0.0625    ],\n",
       "       [0.        , 0.88888889, 0.        , 0.11111111],\n",
       "       [0.        , 0.6       , 0.2       , 0.2       ],\n",
       "       [0.        , 1.        , 0.        , 0.        ],\n",
       "       [0.66666667, 0.33333333, 0.        , 0.        ],\n",
       "       [0.75      , 0.25      , 0.        , 0.        ],\n",
       "       [0.75      , 0.25      , 0.        , 0.        ],\n",
       "       [0.        , 1.        , 0.        , 0.        ],\n",
       "       [0.        , 0.4       , 0.        , 0.6       ],\n",
       "       [0.        , 0.5       , 0.        , 0.5       ],\n",
       "       [0.66666667, 0.33333333, 0.        , 0.        ],\n",
       "       [0.        , 1.        , 0.        , 0.        ],\n",
       "       [0.        , 1.        , 0.        , 0.        ],\n",
       "       [0.        , 0.8       , 0.        , 0.2       ],\n",
       "       [0.        , 0.        , 0.        , 1.        ],\n",
       "       [0.        , 0.        , 0.        , 1.        ],\n",
       "       [1.        , 0.        , 0.        , 0.        ],\n",
       "       [0.        , 1.        , 0.        , 0.        ],\n",
       "       [0.        , 0.        , 0.        , 1.        ],\n",
       "       [0.        , 0.66666667, 0.        , 0.33333333],\n",
       "       [0.        , 0.        , 0.        , 1.        ],\n",
       "       [0.        , 1.        , 0.        , 0.        ],\n",
       "       [0.        , 0.        , 0.        , 1.        ],\n",
       "       [0.        , 0.        , 0.4       , 0.6       ],\n",
       "       [0.        , 0.        , 1.        , 0.        ],\n",
       "       [0.        , 0.        , 1.        , 0.        ],\n",
       "       [0.        , 0.        , 0.        , 1.        ],\n",
       "       [0.        , 0.25      , 0.5       , 0.25      ],\n",
       "       [0.        , 0.33333333, 0.33333333, 0.33333333],\n",
       "       [0.        , 0.        , 0.25      , 0.75      ],\n",
       "       [0.        , 0.25      , 0.        , 0.75      ],\n",
       "       [0.        , 0.16666667, 0.5       , 0.33333333],\n",
       "       [0.        , 0.08333333, 0.16666667, 0.75      ],\n",
       "       [0.        , 0.17647059, 0.23529412, 0.58823529]])"
      ]
     },
     "execution_count": 8,
     "metadata": {},
     "output_type": "execute_result"
    }
   ],
   "source": [
    "embedding"
   ]
  },
  {
   "cell_type": "code",
   "execution_count": null,
   "id": "2e4752c0",
   "metadata": {},
   "outputs": [],
   "source": []
  }
 ],
 "metadata": {
  "kernelspec": {
   "display_name": "Python 3 (ipykernel)",
   "language": "python",
   "name": "python3"
  },
  "language_info": {
   "codemirror_mode": {
    "name": "ipython",
    "version": 3
   },
   "file_extension": ".py",
   "mimetype": "text/x-python",
   "name": "python",
   "nbconvert_exporter": "python",
   "pygments_lexer": "ipython3",
   "version": "3.9.13"
  }
 },
 "nbformat": 4,
 "nbformat_minor": 5
}
