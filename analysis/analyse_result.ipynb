{
 "cells": [
  {
   "cell_type": "code",
   "execution_count": 1,
   "id": "bfaf1c30",
   "metadata": {},
   "outputs": [
    {
     "data": {
      "text/html": [
       "<div>\n",
       "<style scoped>\n",
       "    .dataframe tbody tr th:only-of-type {\n",
       "        vertical-align: middle;\n",
       "    }\n",
       "\n",
       "    .dataframe tbody tr th {\n",
       "        vertical-align: top;\n",
       "    }\n",
       "\n",
       "    .dataframe thead th {\n",
       "        text-align: right;\n",
       "    }\n",
       "</style>\n",
       "<table border=\"1\" class=\"dataframe\">\n",
       "  <thead>\n",
       "    <tr style=\"text-align: right;\">\n",
       "      <th></th>\n",
       "      <th>pdb</th>\n",
       "      <th>dcd</th>\n",
       "      <th>frame</th>\n",
       "      <th>rmsd</th>\n",
       "      <th>Q</th>\n",
       "      <th>embeddings</th>\n",
       "      <th>lof_score</th>\n",
       "      <th>sys_label</th>\n",
       "      <th>gpu_id</th>\n",
       "      <th>cluster_label</th>\n",
       "    </tr>\n",
       "  </thead>\n",
       "  <tbody>\n",
       "    <tr>\n",
       "      <th>0</th>\n",
       "      <td>/project/zerze/ayushg/argonne/configs/configs_...</td>\n",
       "      <td>/project/zerze/ayushg/argonne/ddmd/rna2/test_C...</td>\n",
       "      <td>0</td>\n",
       "      <td>1.382118</td>\n",
       "      <td>0.999816</td>\n",
       "      <td>[-1.0041440725326538, -0.4333035349845886, 0.1...</td>\n",
       "      <td>-1.000000</td>\n",
       "      <td>md_run_2_1689902095</td>\n",
       "      <td>2</td>\n",
       "      <td>7</td>\n",
       "    </tr>\n",
       "    <tr>\n",
       "      <th>1</th>\n",
       "      <td>/project/zerze/ayushg/argonne/configs/configs_...</td>\n",
       "      <td>/project/zerze/ayushg/argonne/ddmd/rna2/test_C...</td>\n",
       "      <td>1</td>\n",
       "      <td>1.402202</td>\n",
       "      <td>0.999579</td>\n",
       "      <td>[-0.602134644985199, -0.19443099200725555, 1.8...</td>\n",
       "      <td>-1.186565</td>\n",
       "      <td>md_run_2_1689902095</td>\n",
       "      <td>2</td>\n",
       "      <td>371</td>\n",
       "    </tr>\n",
       "    <tr>\n",
       "      <th>2</th>\n",
       "      <td>/project/zerze/ayushg/argonne/configs/configs_...</td>\n",
       "      <td>/project/zerze/ayushg/argonne/ddmd/rna2/test_C...</td>\n",
       "      <td>2</td>\n",
       "      <td>1.520616</td>\n",
       "      <td>0.999770</td>\n",
       "      <td>[0.7088106274604797, 0.34490177035331726, -0.5...</td>\n",
       "      <td>-1.000000</td>\n",
       "      <td>md_run_2_1689902095</td>\n",
       "      <td>2</td>\n",
       "      <td>330</td>\n",
       "    </tr>\n",
       "    <tr>\n",
       "      <th>3</th>\n",
       "      <td>/project/zerze/ayushg/argonne/configs/configs_...</td>\n",
       "      <td>/project/zerze/ayushg/argonne/ddmd/rna2/test_C...</td>\n",
       "      <td>3</td>\n",
       "      <td>1.583921</td>\n",
       "      <td>0.999787</td>\n",
       "      <td>[-0.2732030749320984, 0.027400773018598557, -0...</td>\n",
       "      <td>-1.000000</td>\n",
       "      <td>md_run_2_1689902095</td>\n",
       "      <td>2</td>\n",
       "      <td>245</td>\n",
       "    </tr>\n",
       "    <tr>\n",
       "      <th>4</th>\n",
       "      <td>/project/zerze/ayushg/argonne/configs/configs_...</td>\n",
       "      <td>/project/zerze/ayushg/argonne/ddmd/rna2/test_C...</td>\n",
       "      <td>4</td>\n",
       "      <td>1.450537</td>\n",
       "      <td>0.999823</td>\n",
       "      <td>[-0.6491643786430359, 0.8167235255241394, -0.6...</td>\n",
       "      <td>-1.000000</td>\n",
       "      <td>md_run_2_1689902095</td>\n",
       "      <td>2</td>\n",
       "      <td>0</td>\n",
       "    </tr>\n",
       "    <tr>\n",
       "      <th>...</th>\n",
       "      <td>...</td>\n",
       "      <td>...</td>\n",
       "      <td>...</td>\n",
       "      <td>...</td>\n",
       "      <td>...</td>\n",
       "      <td>...</td>\n",
       "      <td>...</td>\n",
       "      <td>...</td>\n",
       "      <td>...</td>\n",
       "      <td>...</td>\n",
       "    </tr>\n",
       "    <tr>\n",
       "      <th>717995</th>\n",
       "      <td>/project/zerze/ayushg/argonne/ddmd/rna2/test/m...</td>\n",
       "      <td>/project/zerze/ayushg/argonne/ddmd/rna2/test_C...</td>\n",
       "      <td>995</td>\n",
       "      <td>1.197114</td>\n",
       "      <td>0.999805</td>\n",
       "      <td>[0.2547549605369568, -0.9010461568832397, 0.00...</td>\n",
       "      <td>-1.000000</td>\n",
       "      <td>md_run_7_1690243886</td>\n",
       "      <td>7</td>\n",
       "      <td>138</td>\n",
       "    </tr>\n",
       "    <tr>\n",
       "      <th>717996</th>\n",
       "      <td>/project/zerze/ayushg/argonne/ddmd/rna2/test/m...</td>\n",
       "      <td>/project/zerze/ayushg/argonne/ddmd/rna2/test_C...</td>\n",
       "      <td>996</td>\n",
       "      <td>1.335953</td>\n",
       "      <td>0.999788</td>\n",
       "      <td>[0.5062527060508728, 0.09636218845844269, -0.2...</td>\n",
       "      <td>-1.000000</td>\n",
       "      <td>md_run_7_1690243886</td>\n",
       "      <td>7</td>\n",
       "      <td>45</td>\n",
       "    </tr>\n",
       "    <tr>\n",
       "      <th>717997</th>\n",
       "      <td>/project/zerze/ayushg/argonne/ddmd/rna2/test/m...</td>\n",
       "      <td>/project/zerze/ayushg/argonne/ddmd/rna2/test_C...</td>\n",
       "      <td>997</td>\n",
       "      <td>1.300580</td>\n",
       "      <td>0.999840</td>\n",
       "      <td>[0.31738603115081787, 0.5863046050071716, -0.0...</td>\n",
       "      <td>-1.000000</td>\n",
       "      <td>md_run_7_1690243886</td>\n",
       "      <td>7</td>\n",
       "      <td>243</td>\n",
       "    </tr>\n",
       "    <tr>\n",
       "      <th>717998</th>\n",
       "      <td>/project/zerze/ayushg/argonne/ddmd/rna2/test/m...</td>\n",
       "      <td>/project/zerze/ayushg/argonne/ddmd/rna2/test_C...</td>\n",
       "      <td>998</td>\n",
       "      <td>1.345999</td>\n",
       "      <td>0.998556</td>\n",
       "      <td>[0.7904371023178101, 0.6474156975746155, -0.70...</td>\n",
       "      <td>-1.000000</td>\n",
       "      <td>md_run_7_1690243886</td>\n",
       "      <td>7</td>\n",
       "      <td>263</td>\n",
       "    </tr>\n",
       "    <tr>\n",
       "      <th>717999</th>\n",
       "      <td>/project/zerze/ayushg/argonne/ddmd/rna2/test/m...</td>\n",
       "      <td>/project/zerze/ayushg/argonne/ddmd/rna2/test_C...</td>\n",
       "      <td>999</td>\n",
       "      <td>1.549186</td>\n",
       "      <td>0.999320</td>\n",
       "      <td>[0.16861620545387268, 1.0912357568740845, 1.11...</td>\n",
       "      <td>-0.999744</td>\n",
       "      <td>md_run_7_1690243886</td>\n",
       "      <td>7</td>\n",
       "      <td>144</td>\n",
       "    </tr>\n",
       "  </tbody>\n",
       "</table>\n",
       "<p>718000 rows × 10 columns</p>\n",
       "</div>"
      ],
      "text/plain": [
       "                                                      pdb  \\\n",
       "0       /project/zerze/ayushg/argonne/configs/configs_...   \n",
       "1       /project/zerze/ayushg/argonne/configs/configs_...   \n",
       "2       /project/zerze/ayushg/argonne/configs/configs_...   \n",
       "3       /project/zerze/ayushg/argonne/configs/configs_...   \n",
       "4       /project/zerze/ayushg/argonne/configs/configs_...   \n",
       "...                                                   ...   \n",
       "717995  /project/zerze/ayushg/argonne/ddmd/rna2/test/m...   \n",
       "717996  /project/zerze/ayushg/argonne/ddmd/rna2/test/m...   \n",
       "717997  /project/zerze/ayushg/argonne/ddmd/rna2/test/m...   \n",
       "717998  /project/zerze/ayushg/argonne/ddmd/rna2/test/m...   \n",
       "717999  /project/zerze/ayushg/argonne/ddmd/rna2/test/m...   \n",
       "\n",
       "                                                      dcd  frame      rmsd  \\\n",
       "0       /project/zerze/ayushg/argonne/ddmd/rna2/test_C...      0  1.382118   \n",
       "1       /project/zerze/ayushg/argonne/ddmd/rna2/test_C...      1  1.402202   \n",
       "2       /project/zerze/ayushg/argonne/ddmd/rna2/test_C...      2  1.520616   \n",
       "3       /project/zerze/ayushg/argonne/ddmd/rna2/test_C...      3  1.583921   \n",
       "4       /project/zerze/ayushg/argonne/ddmd/rna2/test_C...      4  1.450537   \n",
       "...                                                   ...    ...       ...   \n",
       "717995  /project/zerze/ayushg/argonne/ddmd/rna2/test_C...    995  1.197114   \n",
       "717996  /project/zerze/ayushg/argonne/ddmd/rna2/test_C...    996  1.335953   \n",
       "717997  /project/zerze/ayushg/argonne/ddmd/rna2/test_C...    997  1.300580   \n",
       "717998  /project/zerze/ayushg/argonne/ddmd/rna2/test_C...    998  1.345999   \n",
       "717999  /project/zerze/ayushg/argonne/ddmd/rna2/test_C...    999  1.549186   \n",
       "\n",
       "               Q                                         embeddings  \\\n",
       "0       0.999816  [-1.0041440725326538, -0.4333035349845886, 0.1...   \n",
       "1       0.999579  [-0.602134644985199, -0.19443099200725555, 1.8...   \n",
       "2       0.999770  [0.7088106274604797, 0.34490177035331726, -0.5...   \n",
       "3       0.999787  [-0.2732030749320984, 0.027400773018598557, -0...   \n",
       "4       0.999823  [-0.6491643786430359, 0.8167235255241394, -0.6...   \n",
       "...          ...                                                ...   \n",
       "717995  0.999805  [0.2547549605369568, -0.9010461568832397, 0.00...   \n",
       "717996  0.999788  [0.5062527060508728, 0.09636218845844269, -0.2...   \n",
       "717997  0.999840  [0.31738603115081787, 0.5863046050071716, -0.0...   \n",
       "717998  0.998556  [0.7904371023178101, 0.6474156975746155, -0.70...   \n",
       "717999  0.999320  [0.16861620545387268, 1.0912357568740845, 1.11...   \n",
       "\n",
       "        lof_score            sys_label gpu_id  cluster_label  \n",
       "0       -1.000000  md_run_2_1689902095      2              7  \n",
       "1       -1.186565  md_run_2_1689902095      2            371  \n",
       "2       -1.000000  md_run_2_1689902095      2            330  \n",
       "3       -1.000000  md_run_2_1689902095      2            245  \n",
       "4       -1.000000  md_run_2_1689902095      2              0  \n",
       "...           ...                  ...    ...            ...  \n",
       "717995  -1.000000  md_run_7_1690243886      7            138  \n",
       "717996  -1.000000  md_run_7_1690243886      7             45  \n",
       "717997  -1.000000  md_run_7_1690243886      7            243  \n",
       "717998  -1.000000  md_run_7_1690243886      7            263  \n",
       "717999  -0.999744  md_run_7_1690243886      7            144  \n",
       "\n",
       "[718000 rows x 10 columns]"
      ]
     },
     "execution_count": 1,
     "metadata": {},
     "output_type": "execute_result"
    }
   ],
   "source": [
    "import pandas as pd\n",
    "import numpy as np\n",
    "\n",
    "df=pd.read_pickle(\"result.pkl\")\n",
    "df"
   ]
  },
  {
   "cell_type": "code",
   "execution_count": 50,
   "id": "1f581648",
   "metadata": {},
   "outputs": [
    {
     "data": {
      "text/plain": [
       "<bound method IndexOpsMixin.tolist of 0         [-1.4170314073562622, -0.7948014140129089, 1.7...\n",
       "1         [-1.4059808254241943, -0.038415826857089996, 1...\n",
       "2         [-1.3361713886260986, -0.2323329746723175, 1.3...\n",
       "3         [-1.5056474208831787, -0.10642099380493164, 1....\n",
       "4         [-1.1436059474945068, -0.2630435824394226, 1.3...\n",
       "                                ...                        \n",
       "295995    [-0.47173166275024414, -1.3764992952346802, 0....\n",
       "295996    [-0.8395906686782837, -1.3056153059005737, 0.2...\n",
       "295997    [-0.0410599410533905, -1.6376954317092896, -1....\n",
       "295998    [-0.5729150176048279, -1.0120576620101929, -0....\n",
       "295999    [0.011888265609741211, -1.0428156852722168, -1...\n",
       "Name: embeddings, Length: 296000, dtype: object>"
      ]
     },
     "execution_count": 50,
     "metadata": {},
     "output_type": "execute_result"
    }
   ],
   "source": [
    "df.embeddings.to_list\n"
   ]
  },
  {
   "cell_type": "code",
   "execution_count": 40,
   "id": "05c06cb8",
   "metadata": {},
   "outputs": [
    {
     "data": {
      "text/plain": [
       "list"
      ]
     },
     "execution_count": 40,
     "metadata": {},
     "output_type": "execute_result"
    }
   ],
   "source": [
    "(df['embeddings'][0])"
   ]
  },
  {
   "cell_type": "code",
   "execution_count": 61,
   "id": "95ca12e1",
   "metadata": {},
   "outputs": [
    {
     "data": {
      "text/plain": [
       "296000"
      ]
     },
     "execution_count": 61,
     "metadata": {},
     "output_type": "execute_result"
    }
   ],
   "source": [
    "#df.embeddings= df.embeddings.astype(list)\n",
    "a=(df['embeddings'].values.tolist())\n",
    "b= [row[1] for row in a]\n",
    "len(b)"
   ]
  },
  {
   "cell_type": "code",
   "execution_count": 2,
   "id": "38445ad5",
   "metadata": {},
   "outputs": [
    {
     "data": {
      "text/plain": [
       "1091922"
      ]
     },
     "execution_count": 2,
     "metadata": {},
     "output_type": "execute_result"
    }
   ],
   "source": [
    "df.rmsd.argmin()"
   ]
  },
  {
   "cell_type": "code",
   "execution_count": 2,
   "id": "6ad43862",
   "metadata": {},
   "outputs": [],
   "source": [
    "q1=df.iloc[72328]\n",
    "q2=df.iloc[280724]\n",
    "q3=df.iloc[85388]\n",
    "q4=df.iloc[57960]\n",
    "q=df=pd.DataFrame()\n"
   ]
  },
  {
   "cell_type": "code",
   "execution_count": 4,
   "id": "731ec3bf",
   "metadata": {},
   "outputs": [
    {
     "data": {
      "text/plain": [
       "pdb              /project/zerze/ayushg/argonne/ddmd/rna2/test/m...\n",
       "dcd              /project/zerze/ayushg/argonne/ddmd/rna2/test_C...\n",
       "frame                                                          328\n",
       "rmsd                                                      1.214855\n",
       "Q                                                         0.999811\n",
       "embeddings       [1.15241539478302, -0.4468420147895813, 0.6636...\n",
       "lof_score                                        -712210385.671433\n",
       "sys_label                                      md_run_2_1690110569\n",
       "gpu_id                                                           2\n",
       "cluster_label                                                  281\n",
       "Name: 72328, dtype: object"
      ]
     },
     "execution_count": 4,
     "metadata": {},
     "output_type": "execute_result"
    }
   ],
   "source": [
    "q1"
   ]
  },
  {
   "cell_type": "code",
   "execution_count": 5,
   "id": "4ca917ba",
   "metadata": {},
   "outputs": [
    {
     "data": {
      "text/plain": [
       "4"
      ]
     },
     "execution_count": 5,
     "metadata": {},
     "output_type": "execute_result"
    }
   ],
   "source": [
    "lowrm['mod']"
   ]
  },
  {
   "cell_type": "code",
   "execution_count": 13,
   "id": "4baa58b2",
   "metadata": {},
   "outputs": [
    {
     "data": {
      "text/plain": [
       "'/project/zerze/ayushg/argonne/ddmd/rna3/test/md_run/md_run_7_1674657855/output.dcd'"
      ]
     },
     "execution_count": 13,
     "metadata": {},
     "output_type": "execute_result"
    }
   ],
   "source": [
    "lowrm['dcd']"
   ]
  },
  {
   "cell_type": "code",
   "execution_count": 14,
   "id": "a4dac3a6",
   "metadata": {},
   "outputs": [
    {
     "data": {
      "text/plain": [
       "9"
      ]
     },
     "execution_count": 14,
     "metadata": {},
     "output_type": "execute_result"
    }
   ],
   "source": [
    "lowrm['frame']"
   ]
  },
  {
   "cell_type": "code",
   "execution_count": 3,
   "id": "62fcbdca",
   "metadata": {},
   "outputs": [],
   "source": [
    "import MDAnalysis as mda"
   ]
  },
  {
   "cell_type": "code",
   "execution_count": 6,
   "id": "5d740e35",
   "metadata": {},
   "outputs": [
    {
     "name": "stderr",
     "output_type": "stream",
     "text": [
      "/home/agupta55/.local/lib/python3.9/site-packages/MDAnalysis/topology/PDBParser.py:328: UserWarning: Element information is missing, elements attribute will not be populated. If needed these can be guessed using MDAnalysis.topology.guessers.\n",
      "  warnings.warn(\"Element information is missing, elements attribute \"\n"
     ]
    }
   ],
   "source": [
    "u=mda.Universe(lowrm['pdb'],lowrm['dcd'])"
   ]
  },
  {
   "cell_type": "code",
   "execution_count": 7,
   "id": "16cb5f5c",
   "metadata": {},
   "outputs": [
    {
     "name": "stderr",
     "output_type": "stream",
     "text": [
      "/home/agupta55/.local/lib/python3.9/site-packages/MDAnalysis/coordinates/PDB.py:1129: UserWarning: Found no information for attr: 'elements' Using default value of ' '\n",
      "  warnings.warn(\"Found no information for attr: '{}'\"\n",
      "/home/agupta55/.local/lib/python3.9/site-packages/MDAnalysis/coordinates/PDB.py:1129: UserWarning: Found no information for attr: 'formalcharges' Using default value of '0'\n",
      "  warnings.warn(\"Found no information for attr: '{}'\"\n"
     ]
    }
   ],
   "source": [
    "u.trajectory[lowrm['frame']]\n",
    "u.atoms.write('lowestrmsd.pdb')"
   ]
  },
  {
   "cell_type": "code",
   "execution_count": null,
   "id": "2dbcc3eb",
   "metadata": {},
   "outputs": [],
   "source": []
  }
 ],
 "metadata": {
  "kernelspec": {
   "display_name": "Python 3 (ipykernel)",
   "language": "python",
   "name": "python3"
  },
  "language_info": {
   "codemirror_mode": {
    "name": "ipython",
    "version": 3
   },
   "file_extension": ".py",
   "mimetype": "text/x-python",
   "name": "python",
   "nbconvert_exporter": "python",
   "pygments_lexer": "ipython3",
   "version": "3.9.13"
  },
  "vscode": {
   "interpreter": {
    "hash": "87b7d6e98185ac608052f8c95244a8ff17c658895e46616ca5ca9127be66b615"
   }
  }
 },
 "nbformat": 4,
 "nbformat_minor": 5
}
